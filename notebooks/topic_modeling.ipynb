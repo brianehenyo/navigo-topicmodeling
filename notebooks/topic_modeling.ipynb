{
  "cells": [
    {
      "cell_type": "markdown",
      "source": [
        "This notebook follows the tutorial from this [post](https://towardsdatascience.com/topic-modeling-and-latent-dirichlet-allocation-in-python-9bf156893c24) by Susan Li."
      ],
      "metadata": {}
    },
    {
      "cell_type": "code",
      "source": [
        "import pandas as pd\n",
        "import numpy as np\n",
        "import gensim\n",
        "from gensim.utils import simple_preprocess\n",
        "from gensim.parsing.preprocessing import STOPWORDS\n",
        "\n",
        "np.random.seed(2018)\n",
        "\n",
        "import nltk\n",
        "from nltk.stem import WordNetLemmatizer, SnowballStemmer\n",
        "from nltk.stem.porter import *\n",
        "nltk.download('wordnet')"
      ],
      "outputs": [
        {
          "output_type": "stream",
          "name": "stdout",
          "text": [
            "[nltk_data] Downloading package wordnet to\n",
            "[nltk_data]     /Users/brianesamson/nltk_data...\n",
            "[nltk_data]   Package wordnet is already up-to-date!\n"
          ]
        },
        {
          "output_type": "execute_result",
          "execution_count": 1,
          "data": {
            "text/plain": [
              "True"
            ]
          },
          "metadata": {}
        }
      ],
      "execution_count": 1,
      "metadata": {
        "collapsed": false,
        "outputHidden": false,
        "inputHidden": false
      }
    },
    {
      "cell_type": "code",
      "source": [
        "import json\n",
        "\n",
        "json_file = open(\"../raw/raw_textonly_waze.json\")\n",
        "json_data = json.load(json_file)\n",
        "documents = pd.DataFrame(json_data)\n",
        "# data_text = data[['headline_text']]\n",
        "# data_text['index'] = data_text.index\n",
        "# documents = data_text\n",
        "\n",
        "# df = pd.DataFrame([{\"a\":'a', \"b\":'b'}, {\"a\":'c', \"b\":'d'}])\n",
        "# df\n",
        "documents"
      ],
      "outputs": [
        {
          "output_type": "execute_result",
          "execution_count": 22,
          "data": {
            "text/plain": [
              "                                                   body   sub_id\n",
              "0     Seriously Waze whomever is in charge of UX nee...   7nraji\n",
              "1     I agree. And what's with the blue Go buttons t...  ds4cv5q\n",
              "2     Yes! When selecting a destination from seach, ...  ds4mc2j\n",
              "3     I totally agree with you and I will add: make ...  ds4mtd9\n",
              "4     I agree and disagree with little bits and piec...  ds52syn\n",
              "5     I got used to the timer after a while. nowaday...  ds56b9r\n",
              "6     Is anyone interested in conducting a usability...  ds5htj3\n",
              "7     THANK YOU!  I think they should hire you to do...  dsda76f\n",
              "8     Too bad I can't hear a dang thing he says with...   7o0v80\n",
              "9     I have this problem with pretty much all the v...  ds68bj4\n",
              "10    The phone is hard wired into the car stereo. W...  ds6j0t0\n",
              "11                                                       ds9fsxp\n",
              "12    I tried to change the voice and his is not sho...  dsp317r\n",
              "13                   have you updated the app recently?  dsp45lc\n",
              "14    My car doesn't have Android Auto, so I use it ...   7o4bmo\n",
              "15    It's been radio silence on this since the laun...  ds6odnj\n",
              "16    They launched it in beta for a while, and then...  ds6p4kz\n",
              "17    Waze works on Android auto, but only in a car ...  ds6qg93\n",
              "18    What feature are you missing when you just use...  ds73547\n",
              "19    I just like using Android Auto. Easier to use ...  ds73b40\n",
              "20    Works great except sometimes it locks up so ha...  ds7gbe8\n",
              "21    Yeah sadly it only works if your car has built...  ds7y2h1\n",
              "22    I am using android auto and waze which is inst...  dseq8yg\n",
              "23    I know Waze works with Android Auto with an An...  dsevwn3\n",
              "24    hillarious waze navigation in yiddishget it [h...   7o52he\n",
              "25    My grandma is 103 probably one of the last few...  dskfdzj\n",
              "26    My grandmother is 94 still speaks it.My father...  dsv67sr\n",
              "27                                            [deleted]   7ob78x\n",
              "28    whats so animalistic about a kid that needed t...  ds86yjg\n",
              "29    Personally I would not have reported it at all...  ds89jn0\n",
              "...                                                 ...      ...\n",
              "5208  How do you expect Waze to know what the weathe...  eai32b0\n",
              "5209  It's a GPS app without weather functionality. ...  eai35k8\n",
              "5210  Waze has the capability to show weather events...  eai3t4o\n",
              "5211  I have to switch over to Google maps during sn...  eai4oq2\n",
              "5212  OP you're getting downvoted, but I think you b...  eai6wda\n",
              "5213  No, apps don't have the ability (mostly) to cr...  eai7gc1\n",
              "5214  Your experience is slightly better than the pe...  eai9fiv\n",
              "5215  By seeing if traffic in general is slower than...  eaic1py\n",
              "5216  It did that, and found a generally faster rout...  eaij24l\n",
              "5217  > here's a great side road that nobody is driv...  eaij6dz\n",
              "5218  Weather condition reports don't affect routing...  eaikke0\n",
              "5219  If it's that dangerous and unfamiliar, then a ...  eaikvpt\n",
              "5220                        Hi tech illiterate person.   eaiqnm5\n",
              "5221                                           lol okay  eaixjmq\n",
              "5222  travel not advised means just that. you should...  eak31my\n",
              "5223  I'm having an issue with Pixel 3 sound when us...   a0oilo\n",
              "5224  Are you plugged in to a Ford? If so, when the ...  eajqkkk\n",
              "5225  The same thing happening with me, I'm on the O...  eakjm5x\n",
              "5226  The issue with that is that the volume control...  eaklmga\n",
              "5227  I can't use route guidance in Waze at all eith...  eaklpez\n",
              "5228  yeah i can have it running as long as i dont s...  eakm7i8\n",
              "5229  https://support.google.com/waze/answer/6276841...  eaksi6l\n",
              "5230  I commute using Waze twice a day, where I freq...   a0uno4\n",
              "5231  Anyone else having this issue? I had to uninst...   a0vu76\n",
              "5232  https://support.google.com/waze/answer/6276841...  eaksgoa\n",
              "5233   I've logged a report since mine does it as well.  eal4li0\n",
              "5234                                    Thank you guys.  eal9zgg\n",
              "5235  I'm using playerFM for my podcasts while drivi...  ealboi8\n",
              "5236                Yes, on my new pixel for God's sake  ealw2ia\n",
              "5237  New to Waze. For the first month, it would not...   a13qbf\n",
              "\n[5238 rows x 2 columns]"
            ],
            "text/html": [
              "<div>\n",
              "<style>\n",
              "    .dataframe thead tr:only-child th {\n",
              "        text-align: right;\n",
              "    }\n",
              "\n",
              "    .dataframe thead th {\n",
              "        text-align: left;\n",
              "    }\n",
              "\n",
              "    .dataframe tbody tr th {\n",
              "        vertical-align: top;\n",
              "    }\n",
              "</style>\n",
              "<table border=\"1\" class=\"dataframe\">\n",
              "  <thead>\n",
              "    <tr style=\"text-align: right;\">\n",
              "      <th></th>\n",
              "      <th>body</th>\n",
              "      <th>sub_id</th>\n",
              "    </tr>\n",
              "  </thead>\n",
              "  <tbody>\n",
              "    <tr>\n",
              "      <th>0</th>\n",
              "      <td>Seriously Waze whomever is in charge of UX nee...</td>\n",
              "      <td>7nraji</td>\n",
              "    </tr>\n",
              "    <tr>\n",
              "      <th>1</th>\n",
              "      <td>I agree. And what's with the blue Go buttons t...</td>\n",
              "      <td>ds4cv5q</td>\n",
              "    </tr>\n",
              "    <tr>\n",
              "      <th>2</th>\n",
              "      <td>Yes! When selecting a destination from seach, ...</td>\n",
              "      <td>ds4mc2j</td>\n",
              "    </tr>\n",
              "    <tr>\n",
              "      <th>3</th>\n",
              "      <td>I totally agree with you and I will add: make ...</td>\n",
              "      <td>ds4mtd9</td>\n",
              "    </tr>\n",
              "    <tr>\n",
              "      <th>4</th>\n",
              "      <td>I agree and disagree with little bits and piec...</td>\n",
              "      <td>ds52syn</td>\n",
              "    </tr>\n",
              "    <tr>\n",
              "      <th>5</th>\n",
              "      <td>I got used to the timer after a while. nowaday...</td>\n",
              "      <td>ds56b9r</td>\n",
              "    </tr>\n",
              "    <tr>\n",
              "      <th>6</th>\n",
              "      <td>Is anyone interested in conducting a usability...</td>\n",
              "      <td>ds5htj3</td>\n",
              "    </tr>\n",
              "    <tr>\n",
              "      <th>7</th>\n",
              "      <td>THANK YOU!  I think they should hire you to do...</td>\n",
              "      <td>dsda76f</td>\n",
              "    </tr>\n",
              "    <tr>\n",
              "      <th>8</th>\n",
              "      <td>Too bad I can't hear a dang thing he says with...</td>\n",
              "      <td>7o0v80</td>\n",
              "    </tr>\n",
              "    <tr>\n",
              "      <th>9</th>\n",
              "      <td>I have this problem with pretty much all the v...</td>\n",
              "      <td>ds68bj4</td>\n",
              "    </tr>\n",
              "    <tr>\n",
              "      <th>10</th>\n",
              "      <td>The phone is hard wired into the car stereo. W...</td>\n",
              "      <td>ds6j0t0</td>\n",
              "    </tr>\n",
              "    <tr>\n",
              "      <th>11</th>\n",
              "      <td></td>\n",
              "      <td>ds9fsxp</td>\n",
              "    </tr>\n",
              "    <tr>\n",
              "      <th>12</th>\n",
              "      <td>I tried to change the voice and his is not sho...</td>\n",
              "      <td>dsp317r</td>\n",
              "    </tr>\n",
              "    <tr>\n",
              "      <th>13</th>\n",
              "      <td>have you updated the app recently?</td>\n",
              "      <td>dsp45lc</td>\n",
              "    </tr>\n",
              "    <tr>\n",
              "      <th>14</th>\n",
              "      <td>My car doesn't have Android Auto, so I use it ...</td>\n",
              "      <td>7o4bmo</td>\n",
              "    </tr>\n",
              "    <tr>\n",
              "      <th>15</th>\n",
              "      <td>It's been radio silence on this since the laun...</td>\n",
              "      <td>ds6odnj</td>\n",
              "    </tr>\n",
              "    <tr>\n",
              "      <th>16</th>\n",
              "      <td>They launched it in beta for a while, and then...</td>\n",
              "      <td>ds6p4kz</td>\n",
              "    </tr>\n",
              "    <tr>\n",
              "      <th>17</th>\n",
              "      <td>Waze works on Android auto, but only in a car ...</td>\n",
              "      <td>ds6qg93</td>\n",
              "    </tr>\n",
              "    <tr>\n",
              "      <th>18</th>\n",
              "      <td>What feature are you missing when you just use...</td>\n",
              "      <td>ds73547</td>\n",
              "    </tr>\n",
              "    <tr>\n",
              "      <th>19</th>\n",
              "      <td>I just like using Android Auto. Easier to use ...</td>\n",
              "      <td>ds73b40</td>\n",
              "    </tr>\n",
              "    <tr>\n",
              "      <th>20</th>\n",
              "      <td>Works great except sometimes it locks up so ha...</td>\n",
              "      <td>ds7gbe8</td>\n",
              "    </tr>\n",
              "    <tr>\n",
              "      <th>21</th>\n",
              "      <td>Yeah sadly it only works if your car has built...</td>\n",
              "      <td>ds7y2h1</td>\n",
              "    </tr>\n",
              "    <tr>\n",
              "      <th>22</th>\n",
              "      <td>I am using android auto and waze which is inst...</td>\n",
              "      <td>dseq8yg</td>\n",
              "    </tr>\n",
              "    <tr>\n",
              "      <th>23</th>\n",
              "      <td>I know Waze works with Android Auto with an An...</td>\n",
              "      <td>dsevwn3</td>\n",
              "    </tr>\n",
              "    <tr>\n",
              "      <th>24</th>\n",
              "      <td>hillarious waze navigation in yiddishget it [h...</td>\n",
              "      <td>7o52he</td>\n",
              "    </tr>\n",
              "    <tr>\n",
              "      <th>25</th>\n",
              "      <td>My grandma is 103 probably one of the last few...</td>\n",
              "      <td>dskfdzj</td>\n",
              "    </tr>\n",
              "    <tr>\n",
              "      <th>26</th>\n",
              "      <td>My grandmother is 94 still speaks it.My father...</td>\n",
              "      <td>dsv67sr</td>\n",
              "    </tr>\n",
              "    <tr>\n",
              "      <th>27</th>\n",
              "      <td>[deleted]</td>\n",
              "      <td>7ob78x</td>\n",
              "    </tr>\n",
              "    <tr>\n",
              "      <th>28</th>\n",
              "      <td>whats so animalistic about a kid that needed t...</td>\n",
              "      <td>ds86yjg</td>\n",
              "    </tr>\n",
              "    <tr>\n",
              "      <th>29</th>\n",
              "      <td>Personally I would not have reported it at all...</td>\n",
              "      <td>ds89jn0</td>\n",
              "    </tr>\n",
              "    <tr>\n",
              "      <th>...</th>\n",
              "      <td>...</td>\n",
              "      <td>...</td>\n",
              "    </tr>\n",
              "    <tr>\n",
              "      <th>5208</th>\n",
              "      <td>How do you expect Waze to know what the weathe...</td>\n",
              "      <td>eai32b0</td>\n",
              "    </tr>\n",
              "    <tr>\n",
              "      <th>5209</th>\n",
              "      <td>It's a GPS app without weather functionality. ...</td>\n",
              "      <td>eai35k8</td>\n",
              "    </tr>\n",
              "    <tr>\n",
              "      <th>5210</th>\n",
              "      <td>Waze has the capability to show weather events...</td>\n",
              "      <td>eai3t4o</td>\n",
              "    </tr>\n",
              "    <tr>\n",
              "      <th>5211</th>\n",
              "      <td>I have to switch over to Google maps during sn...</td>\n",
              "      <td>eai4oq2</td>\n",
              "    </tr>\n",
              "    <tr>\n",
              "      <th>5212</th>\n",
              "      <td>OP you're getting downvoted, but I think you b...</td>\n",
              "      <td>eai6wda</td>\n",
              "    </tr>\n",
              "    <tr>\n",
              "      <th>5213</th>\n",
              "      <td>No, apps don't have the ability (mostly) to cr...</td>\n",
              "      <td>eai7gc1</td>\n",
              "    </tr>\n",
              "    <tr>\n",
              "      <th>5214</th>\n",
              "      <td>Your experience is slightly better than the pe...</td>\n",
              "      <td>eai9fiv</td>\n",
              "    </tr>\n",
              "    <tr>\n",
              "      <th>5215</th>\n",
              "      <td>By seeing if traffic in general is slower than...</td>\n",
              "      <td>eaic1py</td>\n",
              "    </tr>\n",
              "    <tr>\n",
              "      <th>5216</th>\n",
              "      <td>It did that, and found a generally faster rout...</td>\n",
              "      <td>eaij24l</td>\n",
              "    </tr>\n",
              "    <tr>\n",
              "      <th>5217</th>\n",
              "      <td>&gt; here's a great side road that nobody is driv...</td>\n",
              "      <td>eaij6dz</td>\n",
              "    </tr>\n",
              "    <tr>\n",
              "      <th>5218</th>\n",
              "      <td>Weather condition reports don't affect routing...</td>\n",
              "      <td>eaikke0</td>\n",
              "    </tr>\n",
              "    <tr>\n",
              "      <th>5219</th>\n",
              "      <td>If it's that dangerous and unfamiliar, then a ...</td>\n",
              "      <td>eaikvpt</td>\n",
              "    </tr>\n",
              "    <tr>\n",
              "      <th>5220</th>\n",
              "      <td>Hi tech illiterate person.</td>\n",
              "      <td>eaiqnm5</td>\n",
              "    </tr>\n",
              "    <tr>\n",
              "      <th>5221</th>\n",
              "      <td>lol okay</td>\n",
              "      <td>eaixjmq</td>\n",
              "    </tr>\n",
              "    <tr>\n",
              "      <th>5222</th>\n",
              "      <td>travel not advised means just that. you should...</td>\n",
              "      <td>eak31my</td>\n",
              "    </tr>\n",
              "    <tr>\n",
              "      <th>5223</th>\n",
              "      <td>I'm having an issue with Pixel 3 sound when us...</td>\n",
              "      <td>a0oilo</td>\n",
              "    </tr>\n",
              "    <tr>\n",
              "      <th>5224</th>\n",
              "      <td>Are you plugged in to a Ford? If so, when the ...</td>\n",
              "      <td>eajqkkk</td>\n",
              "    </tr>\n",
              "    <tr>\n",
              "      <th>5225</th>\n",
              "      <td>The same thing happening with me, I'm on the O...</td>\n",
              "      <td>eakjm5x</td>\n",
              "    </tr>\n",
              "    <tr>\n",
              "      <th>5226</th>\n",
              "      <td>The issue with that is that the volume control...</td>\n",
              "      <td>eaklmga</td>\n",
              "    </tr>\n",
              "    <tr>\n",
              "      <th>5227</th>\n",
              "      <td>I can't use route guidance in Waze at all eith...</td>\n",
              "      <td>eaklpez</td>\n",
              "    </tr>\n",
              "    <tr>\n",
              "      <th>5228</th>\n",
              "      <td>yeah i can have it running as long as i dont s...</td>\n",
              "      <td>eakm7i8</td>\n",
              "    </tr>\n",
              "    <tr>\n",
              "      <th>5229</th>\n",
              "      <td>https://support.google.com/waze/answer/6276841...</td>\n",
              "      <td>eaksi6l</td>\n",
              "    </tr>\n",
              "    <tr>\n",
              "      <th>5230</th>\n",
              "      <td>I commute using Waze twice a day, where I freq...</td>\n",
              "      <td>a0uno4</td>\n",
              "    </tr>\n",
              "    <tr>\n",
              "      <th>5231</th>\n",
              "      <td>Anyone else having this issue? I had to uninst...</td>\n",
              "      <td>a0vu76</td>\n",
              "    </tr>\n",
              "    <tr>\n",
              "      <th>5232</th>\n",
              "      <td>https://support.google.com/waze/answer/6276841...</td>\n",
              "      <td>eaksgoa</td>\n",
              "    </tr>\n",
              "    <tr>\n",
              "      <th>5233</th>\n",
              "      <td>I've logged a report since mine does it as well.</td>\n",
              "      <td>eal4li0</td>\n",
              "    </tr>\n",
              "    <tr>\n",
              "      <th>5234</th>\n",
              "      <td>Thank you guys.</td>\n",
              "      <td>eal9zgg</td>\n",
              "    </tr>\n",
              "    <tr>\n",
              "      <th>5235</th>\n",
              "      <td>I'm using playerFM for my podcasts while drivi...</td>\n",
              "      <td>ealboi8</td>\n",
              "    </tr>\n",
              "    <tr>\n",
              "      <th>5236</th>\n",
              "      <td>Yes, on my new pixel for God's sake</td>\n",
              "      <td>ealw2ia</td>\n",
              "    </tr>\n",
              "    <tr>\n",
              "      <th>5237</th>\n",
              "      <td>New to Waze. For the first month, it would not...</td>\n",
              "      <td>a13qbf</td>\n",
              "    </tr>\n",
              "  </tbody>\n",
              "</table>\n",
              "<p>5238 rows × 2 columns</p>\n",
              "</div>"
            ]
          },
          "metadata": {}
        }
      ],
      "execution_count": 22,
      "metadata": {
        "collapsed": false,
        "outputHidden": false,
        "inputHidden": false
      }
    },
    {
      "cell_type": "markdown",
      "source": [
        "**Preprocessing**\n",
        "\n",
        "- Tokenization\n",
        "- Lemmatization\n",
        "- Stemming\n",
        "- Remove stopwords\n",
        "- Remove words with <= 3 characters"
      ],
      "metadata": {}
    },
    {
      "cell_type": "code",
      "source": [
        "stemmer = SnowballStemmer('english')\n",
        "\n",
        "def lemmatize_stemming(text):\n",
        "    return stemmer.stem(WordNetLemmatizer().lemmatize(text, pos='v'))\n",
        "\n",
        "def preprocess(text):\n",
        "    result = []\n",
        "    for token in gensim.utils.simple_preprocess(text):\n",
        "        if token not in gensim.parsing.preprocessing.STOPWORDS and len(token) > 3:\n",
        "            result.append(lemmatize_stemming(token))\n",
        "    return result"
      ],
      "outputs": [],
      "execution_count": 25,
      "metadata": {
        "collapsed": false,
        "outputHidden": false,
        "inputHidden": false
      }
    },
    {
      "cell_type": "code",
      "source": [
        "doc_sample = documents[documents['sub_id'] == \"7nraji\"].values[0][0]\n",
        "print('Original document: ')\n",
        "words = []\n",
        "for word in doc_sample.split(' '):\n",
        "    words.append(word)\n",
        "   \n",
        "print(words)\n",
        "print('\\n\\nTokenized and lemmatized document: ')\n",
        "print(preprocess(doc_sample))"
      ],
      "outputs": [
        {
          "output_type": "stream",
          "name": "stdout",
          "text": [
            "Original document: \n",
            "['Seriously', 'Waze', 'whomever', 'is', 'in', 'charge', 'of', 'UX', 'needs', 'to', 'be', 'fired.', '', \"It's\", 'that', 'bad.', '', 'If', \"you've\", 'changed', 'UX', 'lead', 'in', 'the', 'past', 'few', 'years', 'then', 'whomever', 'is', 'in', 'charge', 'of', 'hiring', 'them', 'should', 'also', 'be', 'fired.', '', 'Please', 'consider', 'hiring', 'a', 'UX', 'consulting', 'team', 'with', 'a', 'solid', 'reputation', 'to', 'come', 'fix', 'your', 'UX', 'and', 'then', 'have', 'them', 'help', 'you', 'hire', 'a', 'competent', 'person', 'on', 'your', 'behalf.', '', 'Credit', 'where', 'credit', 'is', 'due.', '', 'You', 'fixed', 'this', 'a', 'while', 'ago,', 'but', 'I', \"don't\", 'want', 'you', 'to', 'think', 'it', 'went', 'unnoticed.', '', 'Thank', 'you', 'for', 'getting', 'rid', 'of', 'the', 'invisible', 'button', 'to', 'control', 'the', 'sound.', '', 'Not', 'having', 'invisible', 'buttons', 'should', 'be', 'a', 'no', 'brainer.', '', 'Thankfully', 'that', 'was', 'just', 'a', 'nitpick', 'not', 'the', 'end', 'of', 'the', 'world.', '', 'It', \"didn't\", 'make', 'the', 'app', '', 'unsafe.', 'Sadly,', 'the', 'UI', 'you', 'currently', 'have', 'is', 'both', 'less', 'usable', 'and', 'unsafe.The', 'floating', 'instruction', 'bar', 'in', 'horizontal', 'mode.One', 'of', 'the', 'most', 'important', 'rules', 'of', 'UX', 'design', 'is', 'that', 'you', 'do', 'not', 'move', 'elements', 'on', 'your', 'UI', 'based', 'on', 'user', 'input.', '', 'I.e.', 'it', 'is', 'in', 'bad', 'form', 'to', 'have', 'a', 'button', 'that', 'moves', 'when', 'the', 'user', 'moves', 'his/her', 'mouse.', '', '', 'A', 'real', 'world', 'example', 'of', 'this', 'would', 'be', 'in', 'OSX', 'when', 'you', 'move', 'your', 'mouse', 'towards', 'the', 'toolbar', 'and', 'the', 'icon', 'magnifies.', '', \"It's\", 'a', 'nitpick', 'in', 'this', 'example', 'but', \"it's\", 'not', 'the', 'end', 'of', 'the', 'world.Unfortunately', 'for', 'your', 'app', 'this', 'is', 'more', 'of', 'a', 'safety', 'concern.', '', 'You', 'have', 'this', 'floating', 'instruction', 'bar', 'and', 'the', 'map', 'is', 'moving', 'based', 'on', 'the', \"vehicle's\", 'GPS', 'data.', '', 'For', 'all', 'intents', 'and', 'purposes', \"you're\", 'moving', 'the', 'floating', 'instruction', 'bar', 'all', 'over', 'the', 'map.', '', 'So', 'when', 'I', 'come', 'to', 'a', 'stop', 'light', 'and', 'need', 'to', 'turn', 'left', 'do', 'I', 'need', 'to', 'turn', 'left', 'immediately', 'or', 'in', '30', 'feet?', 'I', \"can't\", 'tell', 'because', \"you're\", 'covering', 'that', 'aspect', 'of', 'the', 'screen.', '', 'GPS', \"isn't\", 'always', 'perfectly', 'accurate', 'so', 'it', 'helps', 'to', 'know', 'if', 'I', 'need', 'to', 'take', 'the', 'first', 'turn', 'or', 'the', '2nd', 'turn.Lock', 'the', 'tool', 'bar', 'to', 'the', 'top', 'as', 'it', 'was', 'before', 'and', 'we', \"don't\", 'need', 'to', 'deal', 'with', 'this', 'frustration', 'again.', '', 'Finally,', 'not', 'having', 'the', 'car', 'centered', 'is', 'simply', 'in', 'poor', 'taste.', '', 'AdsThey', 'pop', 'up', 'right', 'on', 'the', 'information', 'that', 'I', 'am', 'using', 'when', 'I', 'am', 'driving.', '', 'Maybe', 'consider', 'having', 'these', 'pop', 'up', 'when', \"I'm\", 'not', 'going', 'to', 'have', 'to', 'turn', 'in', '50', 'feet?', '', 'That', 'would', 'be', 'wonderful.', '', 'Better', 'still', 'maybe', 'have', 'them', 'slide', 'on', 'the', 'bottom', 'and', 'replace', 'the', 'bottom', 'toolbar', 'for', 'a', 'few', 'seconds.', '', 'This', 'way', \"it's\", 'not', 'ever', 'going', 'to', 'be', 'over', 'crucial', 'information', 'that', 'people', 'are', 'glancing', 'at', 'when', 'they', 'are', 'performing', 'a', 'more', 'risky', 'maneuver', 'IE', 'turning', 'is', 'complicated', 'and', 'prone', 'to', 'accidents', 'then', 'simply', 'driving', 'straight.', '', 'While', 'I', \"haven't\", 'had', 'any', 'accidents', 'while', 'using', 'this', 'because', 'obviously', 'I', 'prioritize', 'avoiding', 'accidents', 'over', 'following', 'directions.', '', \"It's\", 'frustrating', 'when', \"I'm\", 'in', 'an', 'unfamiliar', 'area', 'and', 'end', 'up', 'taking', 'a', 'wrong', 'turn,', 'because', 'when', 'I', 'glanced', 'at', 'the', 'screen', 'to', 'briefly', 'get', 'the', 'important', 'information', 'I', 'needed', 'it', 'was', 'not', 'visible', 'to', 'me.', '', 'Personally', \"I've\", 'found', 'myself', 'using', 'your', 'app', 'less', 'and', 'less', 'because', 'it', 'is', 'less', 'usable.', '', '']\n",
            "\n\n",
            "Tokenized and lemmatized document: \n",
            "['serious', 'waze', 'whomev', 'charg', 'need', 'fire', 'chang', 'lead', 'past', 'year', 'whomev', 'charg', 'hire', 'fire', 'consid', 'hire', 'consult', 'team', 'solid', 'reput', 'come', 'help', 'hire', 'compet', 'person', 'behalf', 'credit', 'credit', 'fix', 'want', 'think', 'go', 'unnot', 'thank', 'get', 'invis', 'button', 'control', 'sound', 'have', 'invis', 'button', 'brainer', 'thank', 'nitpick', 'world', 'unsaf', 'sad', 'current', 'usabl', 'unsaf', 'float', 'instruct', 'horizont', 'mode', 'import', 'rule', 'design', 'element', 'base', 'user', 'input', 'form', 'button', 'move', 'user', 'move', 'mous', 'real', 'world', 'exampl', 'mous', 'toolbar', 'icon', 'magnifi', 'nitpick', 'exampl', 'world', 'unfortun', 'safeti', 'concern', 'float', 'instruct', 'move', 'base', 'vehicl', 'data', 'intent', 'purpos', 'move', 'float', 'instruct', 'come', 'stop', 'light', 'need', 'turn', 'leav', 'need', 'turn', 'leav', 'immedi', 'feet', 'tell', 'cover', 'aspect', 'screen', 'perfect', 'accur', 'help', 'know', 'need', 'turn', 'turn', 'lock', 'tool', 'need', 'deal', 'frustrat', 'final', 'have', 'center', 'simpli', 'poor', 'tast', 'adsthey', 'right', 'inform', 'drive', 'mayb', 'consid', 'have', 'go', 'turn', 'feet', 'wonder', 'better', 'mayb', 'slide', 'replac', 'toolbar', 'second', 'go', 'crucial', 'inform', 'peopl', 'glanc', 'perform', 'riski', 'maneuv', 'turn', 'complic', 'prone', 'accid', 'simpli', 'drive', 'straight', 'haven', 'accid', 'obvious', 'priorit', 'avoid', 'accid', 'follow', 'direct', 'frustrat', 'unfamiliar', 'area', 'take', 'wrong', 'turn', 'glanc', 'screen', 'briefli', 'import', 'inform', 'need', 'visibl', 'person', 'usabl']\n"
          ]
        }
      ],
      "execution_count": 26,
      "metadata": {
        "collapsed": false,
        "outputHidden": false,
        "inputHidden": false
      }
    },
    {
      "cell_type": "code",
      "source": [
        "processed_docs = documents['body'].map(preprocess)"
      ],
      "outputs": [],
      "execution_count": 27,
      "metadata": {
        "collapsed": false,
        "outputHidden": false,
        "inputHidden": false
      }
    },
    {
      "cell_type": "code",
      "source": [
        "processed_docs"
      ],
      "outputs": [
        {
          "output_type": "execute_result",
          "execution_count": 28,
          "data": {
            "text/plain": [
              "0       [serious, waze, whomev, charg, need, fire, cha...\n",
              "1       [agre, blue, button, stay, screen, second, wan...\n",
              "2       [select, destin, seach, present, option, later...\n",
              "3       [total, agre, screen, mind, option, choos, def...\n",
              "4       [agre, disagre, littl, bit, piec, item, spot, ...\n",
              "5       [timer, nowaday, start, drive, usual, know, se...\n",
              "6       [interest, conduct, usabl, feedback, session, ...\n",
              "7                                    [thank, think, hire]\n",
              "8                                [hear, dang, thing, say]\n",
              "9                            [problem, pretti, voic, tri]\n",
              "10      [phone, hard, wire, stereo, cours, mute, stere...\n",
              "11                                                     []\n",
              "12                        [tri, chang, voic, show, wrong]\n",
              "13                                        [updat, recent]\n",
              "14      [android, auto, phone, know, plan, make, waze,...\n",
              "15      [radio, silenc, launch, waze, android, auto, u...\n",
              "16      [launch, beta, disabl, decid, wasn, readi, bet...\n",
              "17      [waze, work, android, auto, instal, deck, clic...\n",
              "18                                [featur, miss, regular]\n",
              "19      [like, android, auto, easier, voic, receiv, te...\n",
              "20            [work, great, lock, hard, forc, stop, work]\n",
              "21      [yeah, sad, work, build, entertain, android, a...\n",
              "22      [android, auto, waze, instal, phone, month, pl...\n",
              "23      [know, waze, work, android, auto, android, aut...\n",
              "24      [hillari, waze, navig, yiddishget, https, waze...\n",
              "25      [grandma, probabl, nativ, yiddish, speaker, ea...\n",
              "26      [grandmoth, speak, father, speak, hasid, commu...\n",
              "27                                                [delet]\n",
              "28      [what, animalist, need, urin, know, urin, thro...\n",
              "29      [person, report, go, coupl, minut, report, use...\n",
              "                              ...                        \n",
              "5208                [expect, waze, know, weather, condit]\n",
              "5209             [weather, function, tri, avoid, traffic]\n",
              "5210    [waze, capabl, weather, event, user, report, r...\n",
              "5211    [switch, googl, map, snow, storm, waze, like, ...\n",
              "5212    [get, downvot, think, bring, valid, critic, wa...\n",
              "5213    [app, abil, critic, think, supplement, tool, p...\n",
              "5214    [experi, slight, better, peopl, decid, drive, ...\n",
              "5215    [see, traffic, general, slower, normal, area, ...\n",
              "5216                       [general, faster, rout, navig]\n",
              "5217    [great, road, drive, reason, definit, consid, ...\n",
              "5218    [weather, condit, report, affect, rout, strict...\n",
              "5219    [danger, unfamiliar, sensibl, thing, simpli, p...\n",
              "5220                              [tech, illiter, person]\n",
              "5221                                               [okay]\n",
              "5222     [travel, advis, mean, drive, absolut, necessari]\n",
              "5223    [have, issu, pixel, sound, android, auto, waze...\n",
              "5224    [plug, ford, time, speak, turn, volum, separ, ...\n",
              "5225       [thing, happen, pixel, mazda, stop, waze, fix]\n",
              "5226    [issu, volum, control, mess, constant, cycl, t...\n",
              "5227    [rout, guidanc, waze, waze, long, rout, googl,...\n",
              "5228    [yeah, run, long, dont, select, rout, ubear, v...\n",
              "5229    [https, support, googl, waze, answer, ref_top,...\n",
              "5230    [commut, waze, twice, frequent, voic, command,...\n",
              "5231    [have, issu, uninstal, downgrad, week, latest,...\n",
              "5232    [https, support, googl, waze, answer, ref_top,...\n",
              "5233                                        [log, report]\n",
              "5234                                         [thank, guy]\n",
              "5235    [playerfm, podcast, drive, waze, option, conti...\n",
              "5236                                        [pixel, sake]\n",
              "5237    [waze, month, notifi, alert, polic, week, prov...\n",
              "Name: body, Length: 5238, dtype: object"
            ]
          },
          "metadata": {}
        }
      ],
      "execution_count": 28,
      "metadata": {
        "collapsed": false,
        "outputHidden": false,
        "inputHidden": false
      }
    },
    {
      "cell_type": "markdown",
      "source": [
        "**Create Bag of Words on the dataset**\n",
        "\nGet all the unique words and assign an ID to them."
      ],
      "metadata": {}
    },
    {
      "cell_type": "code",
      "source": [
        "dictionary = gensim.corpora.Dictionary(processed_docs)"
      ],
      "outputs": [],
      "execution_count": 29,
      "metadata": {
        "collapsed": false,
        "outputHidden": false,
        "inputHidden": false
      }
    },
    {
      "cell_type": "code",
      "source": [
        "count = 0\n",
        "for k, v in dictionary.iteritems():\n",
        "    print(k, v)\n",
        "    count += 1\n",
        "    if count > 10:\n",
        "        break"
      ],
      "outputs": [
        {
          "output_type": "stream",
          "name": "stdout",
          "text": [
            "0 accid\n",
            "1 accur\n",
            "2 adsthey\n",
            "3 area\n",
            "4 aspect\n",
            "5 avoid\n",
            "6 base\n",
            "7 behalf\n",
            "8 better\n",
            "9 brainer\n",
            "10 briefli\n"
          ]
        }
      ],
      "execution_count": 30,
      "metadata": {
        "collapsed": false,
        "outputHidden": false,
        "inputHidden": false
      }
    },
    {
      "cell_type": "markdown",
      "source": [
        "**Filter words** | [Source](https://tedboy.github.io/nlps/generated/generated/gensim.corpora.Dictionary.filter_extremes.html)\n",
        "\n",
        "Filter out tokens that appear in\n",
        "\n",
        "- less than `no_below` documents (absolute number) or\n",
        "- more than `no_above` documents (fraction of total corpus size, not absolute number).\n",
        "- after (1) and (2), keep only the first `keep_n` most frequent tokens (or keep all if None)."
      ],
      "metadata": {}
    },
    {
      "cell_type": "code",
      "source": [
        "dictionary.filter_extremes(no_below=15, no_above=0.5, keep_n=100000)"
      ],
      "outputs": [],
      "execution_count": 31,
      "metadata": {
        "collapsed": false,
        "outputHidden": false,
        "inputHidden": false
      }
    },
    {
      "cell_type": "markdown",
      "source": [
        "**Convert corpus to used the BoW IDs and count the word frequency per document**"
      ],
      "metadata": {}
    },
    {
      "cell_type": "code",
      "source": [
        "bow_corpus = [dictionary.doc2bow(doc) for doc in processed_docs]\n",
        "bow_corpus[1]"
      ],
      "outputs": [
        {
          "output_type": "execute_result",
          "execution_count": 34,
          "data": {
            "text/plain": [
              "[(6, 1),\n",
              " (59, 1),\n",
              " (60, 1),\n",
              " (77, 1),\n",
              " (83, 1),\n",
              " (84, 1),\n",
              " (85, 1),\n",
              " (86, 1),\n",
              " (87, 1)]"
            ]
          },
          "metadata": {}
        }
      ],
      "execution_count": 34,
      "metadata": {
        "collapsed": false,
        "outputHidden": false,
        "inputHidden": false
      }
    },
    {
      "cell_type": "code",
      "source": [
        "bow_doc_4310 = bow_corpus[32]\n",
        "\n",
        "for i in range(len(bow_doc_4310)):\n",
        "    print(\"Word {} (\\\"{}\\\") appears {} time.\".format(bow_doc_4310[i][0], \n",
        "                                                     dictionary[bow_doc_4310[i][0]], \n",
        "                                                     bow_doc_4310[i][1]))"
      ],
      "outputs": [
        {
          "output_type": "stream",
          "name": "stdout",
          "text": [
            "Word 2 (\"area\") appears 1 time.\n",
            "Word 11 (\"concern\") appears 1 time.\n",
            "Word 51 (\"person\") appears 1 time.\n",
            "Word 168 (\"decid\") appears 1 time.\n",
            "Word 204 (\"minut\") appears 1 time.\n",
            "Word 211 (\"car\") appears 1 time.\n",
            "Word 212 (\"comment\") appears 2 time.\n",
            "Word 213 (\"commut\") appears 1 time.\n",
            "Word 214 (\"exit\") appears 3 time.\n",
            "Word 215 (\"hand\") appears 1 time.\n",
            "Word 216 (\"life\") appears 1 time.\n",
            "Word 217 (\"liter\") appears 1 time.\n",
            "Word 218 (\"mile\") appears 1 time.\n",
            "Word 219 (\"near\") appears 1 time.\n",
            "Word 220 (\"number\") appears 1 time.\n",
            "Word 221 (\"posit\") appears 1 time.\n",
            "Word 222 (\"previous\") appears 1 time.\n",
            "Word 223 (\"shoulder\") appears 1 time.\n",
            "Word 224 (\"stand\") appears 1 time.\n",
            "Word 225 (\"store\") appears 1 time.\n",
            "Word 226 (\"time\") appears 1 time.\n",
            "Word 227 (\"wait\") appears 1 time.\n"
          ]
        }
      ],
      "execution_count": 35,
      "metadata": {
        "collapsed": false,
        "outputHidden": false,
        "inputHidden": false
      }
    },
    {
      "cell_type": "markdown",
      "source": [
        "TF-IDF\n",
        "===\n",
        "\nFirst, calculate the inverse document counts for all terms in the training corpus."
      ],
      "metadata": {}
    },
    {
      "cell_type": "code",
      "source": [
        "from gensim import corpora, models\n",
        "\ntfidf = models.TfidfModel(bow_corpus)"
      ],
      "outputs": [],
      "execution_count": 36,
      "metadata": {
        "collapsed": false,
        "outputHidden": false,
        "inputHidden": false
      }
    },
    {
      "cell_type": "markdown",
      "source": [
        "Then, transform the count representations into the Tfidf space."
      ],
      "metadata": {}
    },
    {
      "cell_type": "code",
      "source": [
        "corpus_tfidf = tfidf[bow_corpus]"
      ],
      "outputs": [],
      "execution_count": 37,
      "metadata": {
        "collapsed": false,
        "outputHidden": false,
        "inputHidden": false
      }
    },
    {
      "cell_type": "code",
      "source": [
        "from pprint import pprint\n",
        "    \n",
        "pprint(corpus_tfidf[0])"
      ],
      "outputs": [
        {
          "output_type": "stream",
          "name": "stdout",
          "text": [
            "[(0, 0.22415795657886764),\n",
            " (1, 0.070042165222550662),\n",
            " (2, 0.048477793833333407),\n",
            " (3, 0.061799360543494372),\n",
            " (4, 0.12869334462209533),\n",
            " (5, 0.056127824314874397),\n",
            " (6, 0.16668270915926744),\n",
            " (7, 0.0873808230982311),\n",
            " (8, 0.050022327196284647),\n",
            " (9, 0.12714887024636062),\n",
            " (10, 0.11179704072384869),\n",
            " (11, 0.08415869212205758),\n",
            " (12, 0.14575986394475424),\n",
            " (13, 0.069757139624532311),\n",
            " (14, 0.086509247282035046),\n",
            " (15, 0.058769945251189872),\n",
            " (16, 0.051654732083255342),\n",
            " (17, 0.085684807285501111),\n",
            " (18, 0.084902665306432257),\n",
            " (19, 0.049267300422793432),\n",
            " (20, 0.070151807706285083),\n",
            " (21, 0.13733500586923783),\n",
            " (22, 0.070930674328125456),\n",
            " (23, 0.055450004924145452),\n",
            " (24, 0.069757139624532311),\n",
            " (25, 0.084902665306432257),\n",
            " (26, 0.14374835362629998),\n",
            " (27, 0.048903358910249224),\n",
            " (28, 0.12338539359054072),\n",
            " (29, 0.15929834929250397),\n",
            " (30, 0.063387335530188493),\n",
            " (31, 0.097663202962533779),\n",
            " (32, 0.068150557648929536),\n",
            " (33, 0.076369405645102792),\n",
            " (34, 0.15362283988416073),\n",
            " (35, 0.20149934044886064),\n",
            " (36, 0.080902023360974545),\n",
            " (37, 0.23320754991731282),\n",
            " (38, 0.036065824716535043),\n",
            " (39, 0.0873808230982311),\n",
            " (40, 0.10658011513009588),\n",
            " (41, 0.067650564477847203),\n",
            " (42, 0.06601940808029616),\n",
            " (43, 0.11319408732027232),\n",
            " (44, 0.064952649752541863),\n",
            " (45, 0.26587169407230027),\n",
            " (46, 0.26444171082693707),\n",
            " (47, 0.077266630627175842),\n",
            " (48, 0.064952649752541863),\n",
            " (49, 0.049640141136924699),\n",
            " (50, 0.073230485928733435),\n",
            " (51, 0.13895468830044211),\n",
            " (52, 0.08415869212205758),\n",
            " (53, 0.078719960805080244),\n",
            " (54, 0.06716644681628689),\n",
            " (55, 0.084902665306432257),\n",
            " (56, 0.04912067981698845),\n",
            " (57, 0.086509247282035046),\n",
            " (58, 0.08415869212205758),\n",
            " (59, 0.094795616091938179),\n",
            " (60, 0.060825726128658913),\n",
            " (61, 0.083449335128527841),\n",
            " (62, 0.15023080825870078),\n",
            " (63, 0.05823012160334138),\n",
            " (64, 0.049193813892522385),\n",
            " (65, 0.08415869212205758),\n",
            " (66, 0.05387660778322563),\n",
            " (67, 0.075115404129350388),\n",
            " (68, 0.054695511956312108),\n",
            " (69, 0.087524830624340771),\n",
            " (70, 0.040956649467097456),\n",
            " (71, 0.085684807285501111),\n",
            " (72, 0.30005633231068135),\n",
            " (73, 0.072202112581648173),\n",
            " (74, 0.095189129307089879),\n",
            " (75, 0.062310528816226403),\n",
            " (76, 0.080326542780683033),\n",
            " (77, 0.042482764630540966),\n",
            " (78, 0.015114117997225408),\n",
            " (79, 0.065583709138769625),\n",
            " (80, 0.23320754991731282),\n",
            " (81, 0.064747969826773458),\n",
            " (82, 0.052450482653605419)]\n"
          ]
        }
      ],
      "execution_count": 38,
      "metadata": {
        "collapsed": false,
        "outputHidden": false,
        "inputHidden": false
      }
    },
    {
      "cell_type": "markdown",
      "source": [
        "LDA using Bag of Words\n",
        "==="
      ],
      "metadata": {}
    },
    {
      "cell_type": "code",
      "source": [
        "lda_model = gensim.models.LdaMulticore(bow_corpus, num_topics=10, id2word=dictionary, passes=2, workers=2)"
      ],
      "outputs": [],
      "execution_count": 39,
      "metadata": {
        "collapsed": false,
        "outputHidden": false,
        "inputHidden": false
      }
    },
    {
      "cell_type": "code",
      "source": [
        "for idx, topic in lda_model.print_topics(-1):\n",
        "    print('Topic: {} \\nWords: {}'.format(idx, topic))"
      ],
      "outputs": [
        {
          "output_type": "stream",
          "name": "stdout",
          "text": [
            "Topic: 0 \n",
            "Words: 0.033*\"report\" + 0.027*\"waze\" + 0.022*\"road\" + 0.021*\"speed\" + 0.020*\"rout\" + 0.017*\"time\" + 0.015*\"think\" + 0.013*\"work\" + 0.012*\"limit\" + 0.012*\"map\"\n",
            "Topic: 1 \n",
            "Words: 0.070*\"waze\" + 0.025*\"point\" + 0.025*\"googl\" + 0.019*\"map\" + 0.017*\"report\" + 0.015*\"featur\" + 0.014*\"want\" + 0.013*\"rout\" + 0.012*\"drive\" + 0.009*\"need\"\n",
            "Topic: 2 \n",
            "Words: 0.048*\"waze\" + 0.025*\"drive\" + 0.022*\"turn\" + 0.017*\"android\" + 0.013*\"like\" + 0.013*\"time\" + 0.011*\"know\" + 0.011*\"go\" + 0.010*\"road\" + 0.010*\"phone\"\n",
            "Topic: 3 \n",
            "Words: 0.104*\"waze\" + 0.022*\"https\" + 0.018*\"problem\" + 0.015*\"googl\" + 0.015*\"volum\" + 0.012*\"forum\" + 0.011*\"phone\" + 0.011*\"map\" + 0.010*\"rout\" + 0.010*\"user\"\n",
            "Topic: 4 \n",
            "Words: 0.050*\"work\" + 0.037*\"waze\" + 0.024*\"issu\" + 0.020*\"time\" + 0.019*\"rout\" + 0.013*\"server\" + 0.010*\"home\" + 0.009*\"phone\" + 0.009*\"problem\" + 0.009*\"month\"\n",
            "Topic: 5 \n",
            "Words: 0.060*\"waze\" + 0.021*\"thank\" + 0.021*\"rout\" + 0.013*\"like\" + 0.012*\"want\" + 0.012*\"play\" + 0.011*\"screen\" + 0.011*\"traffic\" + 0.011*\"mile\" + 0.010*\"know\"\n",
            "Topic: 6 \n",
            "Words: 0.048*\"waze\" + 0.038*\"rout\" + 0.030*\"phone\" + 0.024*\"googl\" + 0.022*\"map\" + 0.014*\"like\" + 0.014*\"road\" + 0.014*\"traffic\" + 0.012*\"actual\" + 0.012*\"time\"\n",
            "Topic: 7 \n",
            "Words: 0.067*\"waze\" + 0.025*\"phone\" + 0.024*\"drive\" + 0.023*\"issu\" + 0.020*\"turn\" + 0.015*\"work\" + 0.014*\"updat\" + 0.013*\"editor\" + 0.013*\"need\" + 0.012*\"know\"\n",
            "Topic: 8 \n",
            "Words: 0.028*\"waze\" + 0.021*\"report\" + 0.017*\"screen\" + 0.016*\"googl\" + 0.015*\"like\" + 0.015*\"updat\" + 0.014*\"phone\" + 0.014*\"time\" + 0.014*\"appl\" + 0.013*\"direct\"\n",
            "Topic: 9 \n",
            "Words: 0.060*\"https\" + 0.049*\"messag\" + 0.049*\"reddit\" + 0.040*\"comment\" + 0.029*\"bot_metr\" + 0.026*\"user\" + 0.023*\"report\" + 0.022*\"repli\" + 0.022*\"compos\" + 0.019*\"send\"\n"
          ]
        }
      ],
      "execution_count": 40,
      "metadata": {
        "collapsed": false,
        "outputHidden": false,
        "inputHidden": false
      }
    },
    {
      "cell_type": "markdown",
      "source": [
        "LDA using TF-IDF\n",
        "==="
      ],
      "metadata": {}
    },
    {
      "cell_type": "code",
      "source": [
        "lda_model_tfidf = gensim.models.LdaMulticore(corpus_tfidf, num_topics=10, id2word=dictionary, passes=2, workers=4)"
      ],
      "outputs": [],
      "execution_count": 41,
      "metadata": {
        "collapsed": false,
        "outputHidden": false,
        "inputHidden": false
      }
    },
    {
      "cell_type": "code",
      "source": [
        "for idx, topic in lda_model_tfidf.print_topics(-1):\n",
        "    print('Topic: {} Word: {}'.format(idx, topic))"
      ],
      "outputs": [
        {
          "output_type": "stream",
          "name": "stdout",
          "text": [
            "Topic: 0 Word: 0.018*\"thank\" + 0.013*\"waze\" + 0.012*\"rout\" + 0.012*\"android\" + 0.011*\"updat\" + 0.010*\"look\" + 0.009*\"minut\" + 0.009*\"turn\" + 0.008*\"https\" + 0.007*\"possibl\"\n",
            "Topic: 1 Word: 0.021*\"waze\" + 0.019*\"phone\" + 0.013*\"issu\" + 0.012*\"work\" + 0.012*\"problem\" + 0.012*\"beta\" + 0.011*\"android\" + 0.008*\"carplay\" + 0.008*\"happen\" + 0.008*\"time\"\n",
            "Topic: 2 Word: 0.014*\"waze\" + 0.012*\"voic\" + 0.011*\"need\" + 0.010*\"sure\" + 0.008*\"road\" + 0.008*\"chang\" + 0.007*\"problem\" + 0.007*\"know\" + 0.007*\"set\" + 0.007*\"alert\"\n",
            "Topic: 3 Word: 0.016*\"report\" + 0.012*\"speed\" + 0.012*\"waze\" + 0.011*\"delet\" + 0.010*\"road\" + 0.009*\"point\" + 0.009*\"time\" + 0.009*\"rout\" + 0.008*\"camera\" + 0.008*\"limit\"\n",
            "Topic: 4 Word: 0.016*\"updat\" + 0.012*\"waze\" + 0.011*\"fix\" + 0.011*\"rout\" + 0.011*\"phone\" + 0.009*\"thank\" + 0.009*\"version\" + 0.009*\"point\" + 0.009*\"better\" + 0.008*\"think\"\n",
            "Topic: 5 Word: 0.024*\"thank\" + 0.014*\"remov\" + 0.011*\"waze\" + 0.011*\"imgur\" + 0.010*\"issu\" + 0.010*\"like\" + 0.009*\"https\" + 0.009*\"edit\" + 0.008*\"rout\" + 0.008*\"state\"\n",
            "Topic: 6 Word: 0.018*\"work\" + 0.013*\"waze\" + 0.011*\"screen\" + 0.009*\"map\" + 0.009*\"fine\" + 0.009*\"go\" + 0.009*\"googl\" + 0.009*\"report\" + 0.008*\"rout\" + 0.008*\"polic\"\n",
            "Topic: 7 Word: 0.016*\"good\" + 0.013*\"drive\" + 0.013*\"waze\" + 0.011*\"time\" + 0.009*\"week\" + 0.008*\"batteri\" + 0.008*\"problem\" + 0.008*\"iphon\" + 0.008*\"googl\" + 0.007*\"work\"\n",
            "Topic: 8 Word: 0.018*\"waze\" + 0.010*\"know\" + 0.009*\"googl\" + 0.009*\"rout\" + 0.009*\"map\" + 0.008*\"issu\" + 0.008*\"start\" + 0.008*\"drive\" + 0.008*\"time\" + 0.008*\"road\"\n",
            "Topic: 9 Word: 0.013*\"yeah\" + 0.012*\"waze\" + 0.012*\"work\" + 0.012*\"https\" + 0.010*\"report\" + 0.008*\"like\" + 0.008*\"android\" + 0.008*\"auto\" + 0.008*\"thing\" + 0.007*\"rout\"\n"
          ]
        }
      ],
      "execution_count": 42,
      "metadata": {
        "collapsed": false,
        "outputHidden": false,
        "inputHidden": false
      }
    },
    {
      "cell_type": "markdown",
      "source": [
        "Sample classification of documents to topics\n",
        "===\n",
        "\n**Using the LDA Bag of Words model**"
      ],
      "metadata": {}
    },
    {
      "cell_type": "code",
      "source": [
        "processed_docs[0]"
      ],
      "outputs": [
        {
          "output_type": "execute_result",
          "execution_count": 43,
          "data": {
            "text/plain": [
              "['serious',\n",
              " 'waze',\n",
              " 'whomev',\n",
              " 'charg',\n",
              " 'need',\n",
              " 'fire',\n",
              " 'chang',\n",
              " 'lead',\n",
              " 'past',\n",
              " 'year',\n",
              " 'whomev',\n",
              " 'charg',\n",
              " 'hire',\n",
              " 'fire',\n",
              " 'consid',\n",
              " 'hire',\n",
              " 'consult',\n",
              " 'team',\n",
              " 'solid',\n",
              " 'reput',\n",
              " 'come',\n",
              " 'help',\n",
              " 'hire',\n",
              " 'compet',\n",
              " 'person',\n",
              " 'behalf',\n",
              " 'credit',\n",
              " 'credit',\n",
              " 'fix',\n",
              " 'want',\n",
              " 'think',\n",
              " 'go',\n",
              " 'unnot',\n",
              " 'thank',\n",
              " 'get',\n",
              " 'invis',\n",
              " 'button',\n",
              " 'control',\n",
              " 'sound',\n",
              " 'have',\n",
              " 'invis',\n",
              " 'button',\n",
              " 'brainer',\n",
              " 'thank',\n",
              " 'nitpick',\n",
              " 'world',\n",
              " 'unsaf',\n",
              " 'sad',\n",
              " 'current',\n",
              " 'usabl',\n",
              " 'unsaf',\n",
              " 'float',\n",
              " 'instruct',\n",
              " 'horizont',\n",
              " 'mode',\n",
              " 'import',\n",
              " 'rule',\n",
              " 'design',\n",
              " 'element',\n",
              " 'base',\n",
              " 'user',\n",
              " 'input',\n",
              " 'form',\n",
              " 'button',\n",
              " 'move',\n",
              " 'user',\n",
              " 'move',\n",
              " 'mous',\n",
              " 'real',\n",
              " 'world',\n",
              " 'exampl',\n",
              " 'mous',\n",
              " 'toolbar',\n",
              " 'icon',\n",
              " 'magnifi',\n",
              " 'nitpick',\n",
              " 'exampl',\n",
              " 'world',\n",
              " 'unfortun',\n",
              " 'safeti',\n",
              " 'concern',\n",
              " 'float',\n",
              " 'instruct',\n",
              " 'move',\n",
              " 'base',\n",
              " 'vehicl',\n",
              " 'data',\n",
              " 'intent',\n",
              " 'purpos',\n",
              " 'move',\n",
              " 'float',\n",
              " 'instruct',\n",
              " 'come',\n",
              " 'stop',\n",
              " 'light',\n",
              " 'need',\n",
              " 'turn',\n",
              " 'leav',\n",
              " 'need',\n",
              " 'turn',\n",
              " 'leav',\n",
              " 'immedi',\n",
              " 'feet',\n",
              " 'tell',\n",
              " 'cover',\n",
              " 'aspect',\n",
              " 'screen',\n",
              " 'perfect',\n",
              " 'accur',\n",
              " 'help',\n",
              " 'know',\n",
              " 'need',\n",
              " 'turn',\n",
              " 'turn',\n",
              " 'lock',\n",
              " 'tool',\n",
              " 'need',\n",
              " 'deal',\n",
              " 'frustrat',\n",
              " 'final',\n",
              " 'have',\n",
              " 'center',\n",
              " 'simpli',\n",
              " 'poor',\n",
              " 'tast',\n",
              " 'adsthey',\n",
              " 'right',\n",
              " 'inform',\n",
              " 'drive',\n",
              " 'mayb',\n",
              " 'consid',\n",
              " 'have',\n",
              " 'go',\n",
              " 'turn',\n",
              " 'feet',\n",
              " 'wonder',\n",
              " 'better',\n",
              " 'mayb',\n",
              " 'slide',\n",
              " 'replac',\n",
              " 'toolbar',\n",
              " 'second',\n",
              " 'go',\n",
              " 'crucial',\n",
              " 'inform',\n",
              " 'peopl',\n",
              " 'glanc',\n",
              " 'perform',\n",
              " 'riski',\n",
              " 'maneuv',\n",
              " 'turn',\n",
              " 'complic',\n",
              " 'prone',\n",
              " 'accid',\n",
              " 'simpli',\n",
              " 'drive',\n",
              " 'straight',\n",
              " 'haven',\n",
              " 'accid',\n",
              " 'obvious',\n",
              " 'priorit',\n",
              " 'avoid',\n",
              " 'accid',\n",
              " 'follow',\n",
              " 'direct',\n",
              " 'frustrat',\n",
              " 'unfamiliar',\n",
              " 'area',\n",
              " 'take',\n",
              " 'wrong',\n",
              " 'turn',\n",
              " 'glanc',\n",
              " 'screen',\n",
              " 'briefli',\n",
              " 'import',\n",
              " 'inform',\n",
              " 'need',\n",
              " 'visibl',\n",
              " 'person',\n",
              " 'usabl']"
            ]
          },
          "metadata": {}
        }
      ],
      "execution_count": 43,
      "metadata": {
        "collapsed": false,
        "outputHidden": false,
        "inputHidden": false
      }
    },
    {
      "cell_type": "code",
      "source": [
        "for index, score in sorted(lda_model[bow_corpus[0]], key=lambda tup: -1*tup[1]):\n",
        "    print(\"\\nScore: {}\\t \\nTopic: {}\".format(score, lda_model.print_topic(index, 10)))"
      ],
      "outputs": [
        {
          "output_type": "stream",
          "name": "stdout",
          "text": [
            "\n",
            "Score: 0.6332421898841858\t \n",
            "Topic: 0.048*\"waze\" + 0.025*\"drive\" + 0.022*\"turn\" + 0.017*\"android\" + 0.013*\"like\" + 0.013*\"time\" + 0.011*\"know\" + 0.011*\"go\" + 0.010*\"road\" + 0.010*\"phone\"\n",
            "\n",
            "Score: 0.21702523529529572\t \n",
            "Topic: 0.048*\"waze\" + 0.038*\"rout\" + 0.030*\"phone\" + 0.024*\"googl\" + 0.022*\"map\" + 0.014*\"like\" + 0.014*\"road\" + 0.014*\"traffic\" + 0.012*\"actual\" + 0.012*\"time\"\n",
            "\n",
            "Score: 0.10926144570112228\t \n",
            "Topic: 0.028*\"waze\" + 0.021*\"report\" + 0.017*\"screen\" + 0.016*\"googl\" + 0.015*\"like\" + 0.015*\"updat\" + 0.014*\"phone\" + 0.014*\"time\" + 0.014*\"appl\" + 0.013*\"direct\"\n",
            "\n",
            "Score: 0.03578241169452667\t \n",
            "Topic: 0.067*\"waze\" + 0.025*\"phone\" + 0.024*\"drive\" + 0.023*\"issu\" + 0.020*\"turn\" + 0.015*\"work\" + 0.014*\"updat\" + 0.013*\"editor\" + 0.013*\"need\" + 0.012*\"know\"\n"
          ]
        }
      ],
      "execution_count": 45,
      "metadata": {
        "collapsed": false,
        "outputHidden": false,
        "inputHidden": false
      }
    },
    {
      "cell_type": "markdown",
      "source": [
        "**Using the LDA TFIDF model**"
      ],
      "metadata": {}
    },
    {
      "cell_type": "code",
      "source": [
        "for index, score in sorted(lda_model_tfidf[bow_corpus[0]], key=lambda tup: -1*tup[1]):\n",
        "    print(\"\\nScore: {}\\t \\nTopic: {}\".format(score, lda_model.print_topic(index, 10)))"
      ],
      "outputs": [
        {
          "output_type": "stream",
          "name": "stdout",
          "text": [
            "\n",
            "Score: 0.4499287009239197\t \n",
            "Topic: 0.048*\"waze\" + 0.025*\"drive\" + 0.022*\"turn\" + 0.017*\"android\" + 0.013*\"like\" + 0.013*\"time\" + 0.011*\"know\" + 0.011*\"go\" + 0.010*\"road\" + 0.010*\"phone\"\n",
            "\n",
            "Score: 0.4364989697933197\t \n",
            "Topic: 0.048*\"waze\" + 0.038*\"rout\" + 0.030*\"phone\" + 0.024*\"googl\" + 0.022*\"map\" + 0.014*\"like\" + 0.014*\"road\" + 0.014*\"traffic\" + 0.012*\"actual\" + 0.012*\"time\"\n",
            "\n",
            "Score: 0.10810196399688721\t \n",
            "Topic: 0.028*\"waze\" + 0.021*\"report\" + 0.017*\"screen\" + 0.016*\"googl\" + 0.015*\"like\" + 0.015*\"updat\" + 0.014*\"phone\" + 0.014*\"time\" + 0.014*\"appl\" + 0.013*\"direct\"\n"
          ]
        }
      ],
      "execution_count": 46,
      "metadata": {
        "collapsed": false,
        "outputHidden": false,
        "inputHidden": false
      }
    },
    {
      "cell_type": "markdown",
      "source": [
        "**On an unseen document**"
      ],
      "metadata": {}
    },
    {
      "cell_type": "code",
      "source": [
        "unseen_document = 'Waze does not recommend my usual route. Why?'\n",
        "bow_vector = dictionary.doc2bow(preprocess(unseen_document))\n",
        "for index, score in sorted(lda_model[bow_vector], key=lambda tup: -1*tup[1]):\n",
        "    print(\"Score: {}\\t Topic: {}\".format(score, lda_model.print_topic(index, 5)))"
      ],
      "outputs": [
        {
          "output_type": "stream",
          "name": "stdout",
          "text": [
            "Score: 0.819949209690094\t Topic: 0.067*\"waze\" + 0.025*\"phone\" + 0.024*\"drive\" + 0.023*\"issu\" + 0.020*\"turn\"\n",
            "Score: 0.020009329542517662\t Topic: 0.048*\"waze\" + 0.038*\"rout\" + 0.030*\"phone\" + 0.024*\"googl\" + 0.022*\"map\"\n",
            "Score: 0.020007828250527382\t Topic: 0.104*\"waze\" + 0.022*\"https\" + 0.018*\"problem\" + 0.015*\"googl\" + 0.015*\"volum\"\n",
            "Score: 0.020006118342280388\t Topic: 0.033*\"report\" + 0.027*\"waze\" + 0.022*\"road\" + 0.021*\"speed\" + 0.020*\"rout\"\n",
            "Score: 0.020005986094474792\t Topic: 0.050*\"work\" + 0.037*\"waze\" + 0.024*\"issu\" + 0.020*\"time\" + 0.019*\"rout\"\n",
            "Score: 0.02000591717660427\t Topic: 0.028*\"waze\" + 0.021*\"report\" + 0.017*\"screen\" + 0.016*\"googl\" + 0.015*\"like\"\n",
            "Score: 0.020005403086543083\t Topic: 0.070*\"waze\" + 0.025*\"point\" + 0.025*\"googl\" + 0.019*\"map\" + 0.017*\"report\"\n",
            "Score: 0.0200053583830595\t Topic: 0.060*\"waze\" + 0.021*\"thank\" + 0.021*\"rout\" + 0.013*\"like\" + 0.012*\"want\"\n",
            "Score: 0.020002558827400208\t Topic: 0.048*\"waze\" + 0.025*\"drive\" + 0.022*\"turn\" + 0.017*\"android\" + 0.013*\"like\"\n",
            "Score: 0.02000228874385357\t Topic: 0.060*\"https\" + 0.049*\"messag\" + 0.049*\"reddit\" + 0.040*\"comment\" + 0.029*\"bot_metr\"\n"
          ]
        }
      ],
      "execution_count": 47,
      "metadata": {
        "collapsed": false,
        "outputHidden": false,
        "inputHidden": false
      }
    }
  ],
  "metadata": {
    "kernel_info": {
      "name": "python3"
    },
    "language_info": {
      "name": "python",
      "version": "3.6.6",
      "mimetype": "text/x-python",
      "codemirror_mode": {
        "name": "ipython",
        "version": 3
      },
      "pygments_lexer": "ipython3",
      "nbconvert_exporter": "python",
      "file_extension": ".py"
    },
    "kernelspec": {
      "name": "python3",
      "language": "python",
      "display_name": "Python 3"
    },
    "nteract": {
      "version": "0.12.3"
    }
  },
  "nbformat": 4,
  "nbformat_minor": 4
}